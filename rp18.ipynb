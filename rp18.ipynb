{
 "cells": [
  {
   "cell_type": "code",
   "execution_count": 1,
   "metadata": {
    "collapsed": false
   },
   "outputs": [],
   "source": [
    "import nglview\n",
    "import rna_pdb_tools.Seq as Seq\n",
    "import rna_pdb_tools.BlastPDB\n",
    "from rna_pdb_tools.BlastPDB import BlastPDB\n",
    "reload(rna_pdb_tools.BlastPDB);\n",
    "reload(Seq);\n"
   ]
  },
  {
   "cell_type": "code",
   "execution_count": 2,
   "metadata": {
    "collapsed": false
   },
   "outputs": [],
   "source": [
    "seq = Seq.Seq(\"GGGUCAGGCCGGCGAAAGUCGCCACAGUUUGGGGAAAGCUGUGCAGCCUGUAACCCCCCCACGAAAGUGGG\")"
   ]
  },
  {
   "cell_type": "code",
   "execution_count": 3,
   "metadata": {
    "collapsed": false
   },
   "outputs": [
    {
     "data": {
      "text/plain": [
       "GGGUCAGGCCGGCGAAAGUCGCCACAGUUUGGGGAAAGCUGUGCAGCCUGUAACCCCCCCACGAAAGUGGG"
      ]
     },
     "execution_count": 3,
     "metadata": {},
     "output_type": "execute_result"
    }
   ],
   "source": [
    "seq"
   ]
  },
  {
   "cell_type": "markdown",
   "metadata": {},
   "source": [
    "# Secondary structure prediction"
   ]
  },
  {
   "cell_type": "code",
   "execution_count": 12,
   "metadata": {
    "collapsed": false
   },
   "outputs": [
    {
     "name": "stdout",
     "output_type": "stream",
     "text": [
      "(((((((((.(((((...)))))(((((((.....)))))))...)))))..)))).(((((....)))))\n"
     ]
    }
   ],
   "source": [
    "print seq.predict_ss()"
   ]
  },
  {
   "cell_type": "code",
   "execution_count": 13,
   "metadata": {
    "collapsed": false
   },
   "outputs": [
    {
     "name": "stdout",
     "output_type": "stream",
     "text": [
      "GGGUCAGGCCGGCGAAAGUCGCCACAGUUUGGGGAAAGCUGUGCAGCCUGUAACCCCCCCACGAAAGUGGG  -3310    100\n",
      "(((((((((.((((.....))))(((((((.....)))))))...)))))..)))).(((((....))))) -32.40\n",
      "(((((((((.(((((...)))))(((((((.....)))))))...)))))..)))).(((((....))))) -33.10\n",
      "(((((((((((((....)))).((((((((.....))))))))..)))))..)))).(((((....))))) -32.30\n"
     ]
    }
   ],
   "source": [
    "print seq.predict_ss(method='RNAsubopt')"
   ]
  },
  {
   "cell_type": "code",
   "execution_count": 14,
   "metadata": {
    "collapsed": false
   },
   "outputs": [
    {
     "name": "stdout",
     "output_type": "stream",
     "text": [
      "(((((((((((((....)))).((((((((.....))))))))..)))))..)))).(((((....)))))\n"
     ]
    }
   ],
   "source": [
    "print seq.predict_ss(method='ipknot')"
   ]
  },
  {
   "cell_type": "code",
   "execution_count": 15,
   "metadata": {
    "collapsed": false
   },
   "outputs": [
    {
     "name": "stdout",
     "output_type": "stream",
     "text": [
      "(((((((((.(((....)))..((((((((.....))))))))..)))))..)))).(((((....))))) (g=1,th=0.5,e=-27.26)\n"
     ]
    }
   ],
   "source": [
    "print seq.predict_ss(method='centroid_fold')"
   ]
  },
  {
   "cell_type": "code",
   "execution_count": 16,
   "metadata": {
    "collapsed": false
   },
   "outputs": [
    {
     "name": "stdout",
     "output_type": "stream",
     "text": [
      "(((.(((((((((....)))).(((((((.......)))))))..)))))...))).(((((....)))))\n",
      "\n"
     ]
    }
   ],
   "source": [
    "print seq.predict_ss(method='contextfold')"
   ]
  },
  {
   "cell_type": "code",
   "execution_count": 20,
   "metadata": {
    "collapsed": false
   },
   "outputs": [
    {
     "name": "stdout",
     "output_type": "stream",
     "text": [
      "GGGUCAGGCCGGCGAAAGUCGCCACAGUUUGGGGAAAGCUGUGCAGCCUGUAACCCCCCCACGAAAGUGGG\n",
      "# cmscan :: search sequence(s) against a CM database\n",
      "# INFERNAL 1.1.2 (July 2016)\n",
      "# Copyright (C) 2016 Howard Hughes Medical Institute.\n",
      "# Freely distributed under a BSD open source license.\n",
      "# - - - - - - - - - - - - - - - - - - - - - - - - - - - - - - - - - - - -\n",
      "# query sequence file:                   /tmp/ss.fa\n",
      "# target CM database:                    Rfam.cm\n",
      "# sequence reporting threshold:          E-value <= 1\n",
      "# number of worker threads:              4\n",
      "# - - - - - - - - - - - - - - - - - - - - - - - - - - - - - - - - - - - -\n",
      "\n",
      "Query:       test  [L=71]\n",
      "Hit scores:\n",
      " rank     E-value  score  bias  modelname        start    end   mdl trunc   gc  description\n",
      " ----   --------- ------ -----  --------------- ------ ------   --- ----- ----  -----------\n",
      "  (1) !   0.00046   24.2   0.0  JEV_hairpin          3     54 +  cm    no 0.60  -\n",
      " ------ inclusion threshold ------\n",
      "  (2) ?      0.22   17.7   0.0  Flavivirus_SLIV      2     71 +  cm    no 0.63  -\n",
      "  (3) ?      0.57   12.9   0.0  YFV_3UTR             5     50 +  cm    no 0.63  -\n",
      "  (4) ?       0.8   10.4   0.0  Chlorobi-1          51     71 +  cm    3' 0.62  -\n",
      "\n",
      "\n",
      "Hit alignments:\n",
      ">> JEV_hairpin  \n",
      " rank     E-value  score  bias mdl mdl from   mdl to       seq from      seq to       acc trunc   gc\n",
      " ----   --------- ------ ----- --- -------- --------    ----------- -----------      ---- ----- ----\n",
      "  (1) !   0.00046   24.2   0.0  cm        6       59 .]           3          54 + .. 0.90    no 0.60\n",
      "\n",
      "                         v         v           v         v           NC\n",
      "                 <-<<<<<-<<<<----<<<<<--~~~~~>>>>>---->>>>>>>>>>:::  CS\n",
      "  JEV_hairpin  6 GUCAGGCCAGCAAAaGCuGCcAC*[9]*gGUaGACGGUGCUGCCUGCGuC  60\n",
      "                 :UCAGGCC GC:AAAG:: CCAC     GG :: C G:GC GCCUG: +C \n",
      "         test  3 GUCAGGCCGGCGAAAGUCGCCAC*[7]*GGAAAGCUGUGCAGCCUGUAAC  55\n",
      "                 *********************98..5..88888899**************  PP\n",
      "\n",
      ">> Flavivirus_SLIV  \n",
      " rank     E-value  score  bias mdl mdl from   mdl to       seq from      seq to       acc trunc   gc\n",
      " ----   --------- ------ ----- --- -------- --------    ----------- -----------      ---- ----- ----\n",
      "  (2) ?      0.22   17.7   0.0  cm        5       74 ..           2          71 + .] 0.86    no 0.63\n",
      "\n",
      "                                 v    v                                                     NC\n",
      "                     ((((((((<<<<<____>>>>>,<<<<__~~~~~~>>>>,,)))))--)))----<<<<<_____>>>>> CS\n",
      "  Flavivirus_SLIV  5 uGuCAGgCCACgcuuuagcGUGCCACuCu*[ 6]*aGUGCaGcCUGcGaCaguGCCCCAGGaGGACUGGG 74\n",
      "                     :GUCAGGCC: : ++   : :GCCAC: U      :GUGCAGCCUG+ AC:   CCCCA GA  A UGGG\n",
      "             test  2 GGUCAGGCCGGCGAA--AGUCGCCACAGU*[11]*UGUGCAGCCUGUAACCC--CCCCACGAA-AGUGGG 71\n",
      "                     **********98766..778******854...6..8***************7..8*****984.7***** PP\n",
      "\n",
      ">> YFV_3UTR  \n",
      " rank     E-value  score  bias mdl mdl from   mdl to       seq from      seq to       acc trunc   gc\n",
      " ----   --------- ------ ----- --- -------- --------    ----------- -----------      ---- ----- ----\n",
      "  (3) ?      0.57   12.9   0.0  cm        9       65 ..           5          50 + .. 0.85    no 0.63\n",
      "\n",
      "                       vv         vv                                    NC\n",
      "              (((((<<<<<<_________>>>>>>,<<<<<<<_________>>>>>>>,,))))) CS\n",
      "  YFV_3UTR  9 CaGCCCagaaCuCCACACGAGuuuuGCCaCuGCuAAGCUGUGAgGCaGuGCAGGCuG 65\n",
      "              CAG:CC:G:         GA++:U:GCCAC:G :  G  G  A: C:GUGCAG:CUG\n",
      "      test  5 CAGGCCGGC---------GAAAGUCGCCACAGUUUGG--GGAAAGCUGUGCAGCCUG 50\n",
      "              *******96.........45558*********99655..445699************ PP\n",
      "\n",
      ">> Chlorobi-1  \n",
      " rank     E-value  score  bias mdl mdl from   mdl to       seq from      seq to       acc trunc   gc\n",
      " ----   --------- ------ ----- --- -------- --------    ----------- -----------      ---- ----- ----\n",
      "  (4) ?       0.8   10.4   0.0  cm        1       21 [~          51          71 + .~ 1.00    3' 0.62\n",
      "\n",
      "                    ???                     NC\n",
      "                ::::<<<<<<<<____>>>>>~~~~~~ CS\n",
      "  Chlorobi-1  1 gAAAuaCCuCACGCCaGUGaG*[46]> 67\n",
      "                 AA   CC:CACG  AGUG:G      \n",
      "        test 51 UAACCCCCCCACGAAAGUGGG*[ 0]> 71\n",
      "                *********************...... PP\n",
      "\n",
      "\n",
      "\n",
      "Internal HMM-only pipeline statistics summary: (run for model(s) with zero basepairs)\n",
      "--------------------------------------------------------------------------------------\n",
      "Query sequence(s):                                               1  (142 residues searched)\n",
      "Target model(s):                                               347  (40911 consensus positions)\n",
      "Windows   passing  local HMM SSV           filter:               4  (0.005764); expected (0.02)\n",
      "Windows   passing  local HMM MSV      bias filter:               4  (0.005764); expected (0.02)\n",
      "Windows   passing  local HMM Viterbi       filter:               0  (0); expected (0.001)\n",
      "Windows   passing  local HMM Forward       filter:               0  (0); expected (1e-05)\n",
      "Total HMM hits reported:                                         0  (0)\n",
      "\n",
      "Internal CM pipeline statistics summary:\n",
      "----------------------------------------\n",
      "Query sequence(s):                                               1  (142 residues searched)\n",
      "Query sequences re-searched for truncated hits:                  1  (410.5 residues re-searched, avg per model)\n",
      "Target model(s):                                              2126  (267652 consensus positions)\n",
      "Windows   passing  local HMM SSV           filter:            1094  (0.05973); expected (0.35)\n",
      "Windows   passing  local HMM Viterbi       filter:                  (off)\n",
      "Windows   passing  local HMM Viterbi  bias filter:                  (off)\n",
      "Windows   passing  local HMM Forward       filter:             402  (0.0226); expected (0.02)\n",
      "Windows   passing  local HMM Forward  bias filter:             376  (0.02123); expected (0.02)\n",
      "Windows   passing glocal HMM Forward       filter:              86  (0.004806); expected (0.02)\n",
      "Windows   passing glocal HMM Forward  bias filter:              84  (0.004726); expected (0.02)\n",
      "Envelopes passing glocal HMM envelope defn filter:              81  (0.003846); expected (0.02)\n",
      "Envelopes passing  local CM  CYK           filter:              13  (0.0006036); expected (0.0001)\n",
      "Total CM hits reported:                                          4  (0.0002231); includes 2 truncated hit(s)\n",
      "\n",
      "Total CM and HMM hits reported:                                  4\n",
      "\n",
      "# CPU time: 5.04u 0.45s 00:00:05.49 Elapsed: 00:00:03.59\n",
      "//\n",
      "[ok]\n",
      "\n"
     ]
    }
   ],
   "source": [
    "import rna_pdb_tools.RfamSearch as rf\n",
    "#reload(rf)\n",
    "\n",
    "#seq = Seq.Seq(\"GGGUCAGGCCGGCGAAAGUCGCCACAGUUUGGGGAAAGCUGUGCAGCCUGUAACCCCCCCACGAAAGUGGG\")\n",
    "rs = rf.RfamSearch()\n",
    "print rs.cmscan(seq)"
   ]
  },
  {
   "cell_type": "markdown",
   "metadata": {},
   "source": [
    "# PDB Blast search"
   ]
  },
  {
   "cell_type": "code",
   "execution_count": 19,
   "metadata": {
    "collapsed": false
   },
   "outputs": [
    {
     "name": "stdout",
     "output_type": "stream",
     "text": [
      "<HTML>\n",
      "<TITLE>BLAST Search Results</TITLE>\n",
      "<BODY BGCOLOR=\"#FFFFFF\" LINK=\"#0000FF\" VLINK=\"#660099\" ALINK=\"#660099\">\n",
      "<PRE>\n",
      "<b>BLASTN 2.2.18 [Mar-02-2008]</b>\n",
      "\n",
      "\n",
      "<b><a href=\"http://www.ncbi.nlm.nih.gov/entrez/query.fcgi?db=PubMed&cmd=Retrieve&list_uids\n",
      "=9254694&dopt=Citation\">Reference</a>:</b>\n",
      "Altschul, Stephen F., Thomas L. Madden, Alejandro A. Sch&auml;ffer, \n",
      "Jinghui Zhang, Zheng Zhang, Webb Miller, and David J. Lipman (1997), \n",
      "\"Gapped BLAST and PSI-BLAST: a new generation of protein database search\n",
      "programs\",  Nucleic Acids Res. 25:3389-3402.\n",
      "\n",
      "<b>Query=</b> UNKNOWN_SEQUENCE\n",
      "         (71 letters)\n",
      "\n",
      "<b>Database:</b> pdb_nucleotide \n",
      "           15,787 sequences; 2,694,141 total letters\n",
      "\n",
      "Searching..................................................done\n",
      "\n",
      "<PRE>\n",
      "\n",
      "\n",
      "                                                                 Score    E\n",
      "Sequences producing significant alignments:                      (bits) Value\n",
      "\n",
      "4PQV:1:A|pdbid|entity|chain(s)|sequence                               <a href = #11432> 34</a>   0.007\n",
      "</PRE>\n",
      "<PRE>\n",
      "><a name = 11432></a>4PQV:1:A|pdbid|entity|chain(s)|sequence\n",
      "          Length = 68\n",
      "\n",
      " Score = 34.2 bits (17), Expect = 0.007\n",
      " Identities = 23/25 (92%)\n",
      " Strand = Plus / Plus\n",
      "\n",
      "                                   \n",
      "Query: 1  gggtcaggccggcgaaagtcgccac 25\n",
      "          |||||||  ||||||||||||||||\n",
      "Sbjct: 1  gggtcagatcggcgaaagtcgccac 25\n",
      "</PRE>\n",
      "\n",
      "\n",
      "<PRE>\n",
      "  Database: pdb_nucleotide\n",
      "    Posted date:  Oct 30, 2016  3:26 AM\n",
      "  Number of letters in database: 2,694,141\n",
      "  Number of sequences in database:  15,787\n",
      "  \n",
      "Lambda     K      H\n",
      "    1.37    0.711     1.31 \n",
      "\n",
      "Gapped\n",
      "Lambda     K      H\n",
      "    1.37    0.711     1.31 \n",
      "\n",
      "\n",
      "Matrix: blastn matrix:1 -3\n",
      "Gap Penalties: Existence: 5, Extension: 2\n",
      "Number of Sequences: 15787\n",
      "Number of Hits to DB: 1369\n",
      "Number of extensions: 6\n",
      "Number of successful extensions: 6\n",
      "Number of sequences better than 10.0: 1\n",
      "Number of HSP's gapped: 6\n",
      "Number of HSP's successfully gapped: 1\n",
      "Length of query: 71\n",
      "Length of database: 2,694,141\n",
      "Length adjustment: 14\n",
      "Effective length of query: 57\n",
      "Effective length of database: 2,473,123\n",
      "Effective search space: 140968011\n",
      "Effective search space used: 140968011\n",
      "X1: 10 (19.8 bits)\n",
      "X2: 15 (29.7 bits)\n",
      "X3: 50 (99.1 bits)\n",
      "S1: 10 (20.3 bits)\n",
      "S2: 12 (24.3 bits)\n",
      "</PRE>\n",
      "</BODY>\n",
      "</HTML>\n"
     ]
    }
   ],
   "source": [
    "p = BlastPDB(seq.seq)\n",
    "p.search()\n",
    "print p.result"
   ]
  },
  {
   "cell_type": "markdown",
   "metadata": {},
   "source": [
    "# 3D structure analysis"
   ]
  },
  {
   "cell_type": "code",
   "execution_count": null,
   "metadata": {
    "collapsed": false
   },
   "outputs": [],
   "source": [
    "from rna_pdb_tools.pdb_parser_lib import RNAStructure\n",
    "\n",
    "fn = \"rna_pdb_tools/data/260c8ff6-f24e-4eff-9760-1831407fc770_ALL_thrs5.30A_clust01-000001_AA.pdb\"\n",
    "\n",
    "s = RNAStructure(fn)\n",
    "print s.get_report()\n",
    "print s.get_info_chains()\n",
    "print s.get_head()\n",
    "#print s.view() # image paste here :-)"
   ]
  },
  {
   "cell_type": "code",
   "execution_count": null,
   "metadata": {
    "collapsed": false
   },
   "outputs": [],
   "source": [
    "%%bash\n",
    "cd rna_pdb_tools\n",
    "./rna-pdb-tools.py --no_hr --get_seq data/260c8ff6-f24e-4eff-9760-1831407fc770_ALL_thrs5.30A_clust01-000001_AA.pdb"
   ]
  },
  {
   "cell_type": "markdown",
   "metadata": {},
   "source": [
    "# RNA 3D structure prediction"
   ]
  },
  {
   "cell_type": "code",
   "execution_count": null,
   "metadata": {
    "collapsed": true
   },
   "outputs": [],
   "source": [
    "# model using SimRNA\n",
    "#res = SimRNA(ss,seq.get_ss())"
   ]
  },
  {
   "cell_type": "code",
   "execution_count": 4,
   "metadata": {
    "collapsed": false
   },
   "outputs": [],
   "source": [
    "# fake import, should be \n",
    "res = \"rna_pdb_tools/data/260c8ff6-f24e-4eff-9760-1831407fc770_ALL_thrs5.30A_clust01-000001_AA.pdb\"\n",
    "# view\n",
    "view = nglview.show_structure_file(res)\n",
    "view.add_representation(repr_type='cartoon')\n",
    "view"
   ]
  },
  {
   "cell_type": "markdown",
   "metadata": {},
   "source": [
    "# rna_pdb_tools --get_seq"
   ]
  },
  {
   "cell_type": "code",
   "execution_count": null,
   "metadata": {
    "collapsed": false
   },
   "outputs": [],
   "source": [
    "%%bash\n",
    "cd rna_pdb_tools\n",
    "./rna-pdb-tools.py --no_hr --get_seq input/5k7c.pdb"
   ]
  },
  {
   "cell_type": "code",
   "execution_count": null,
   "metadata": {
    "collapsed": false
   },
   "outputs": [],
   "source": [
    "%%bash\n",
    "cd rna_pdb_tools\n",
    "./rna-pdb-tools.py --no_hr --get_seq input/5k7c.pdb\n",
    "./rna-pdb-tools.py --no_hr --get_seq input/tetraloop.pdb\n",
    "./rna-pdb-tools.py --get_seq input/1xjr.pdb"
   ]
  },
  {
   "cell_type": "code",
   "execution_count": null,
   "metadata": {
    "collapsed": true
   },
   "outputs": [],
   "source": []
  }
 ],
 "metadata": {
  "kernelspec": {
   "display_name": "Python 2",
   "language": "python",
   "name": "python2"
  },
  "language_info": {
   "codemirror_mode": {
    "name": "ipython",
    "version": 2
   },
   "file_extension": ".py",
   "mimetype": "text/x-python",
   "name": "python",
   "nbconvert_exporter": "python",
   "pygments_lexer": "ipython2",
   "version": "2.7.12"
  },
  "widgets": {
   "state": {
    "6ceeeae558b24cccb2f19b5ce9e7a1bf": {
     "views": [
      {
       "cell_index": 17
      }
     ]
    },
    "ba29d5caff4446039cffaf8a7429154f": {
     "views": [
      {
       "cell_index": 17
      }
     ]
    }
   },
   "version": "1.2.0"
  }
 },
 "nbformat": 4,
 "nbformat_minor": 0
}
